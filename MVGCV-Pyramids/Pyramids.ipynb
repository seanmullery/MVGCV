{
 "cells": [
  {
   "cell_type": "markdown",
   "id": "b93e6645-50cd-4afb-9c3b-c770e940aa3e",
   "metadata": {},
   "source": [
    "# Pyramids"
   ]
  },
  {
   "cell_type": "markdown",
   "id": "910559a1-690a-4237-bfe6-e4975f139690",
   "metadata": {},
   "source": [
    "## Scale\n",
    "\n",
    "One of the common problems with finding objects/features in images is that of scale.\n",
    "\n",
    "Humans are good at recognising the same type of object no mater what it's scale is.\n",
    "Computers are not.\n",
    "\n",
    "What we need is a system where by we can search images at several different scales.\n",
    "This is the idea we will look at today.\n",
    "\n",
    "And it involves a construct called a Pyramid.\\\\"
   ]
  },
  {
   "cell_type": "markdown",
   "id": "050650c3-964e-4491-b38f-54096928af97",
   "metadata": {},
   "source": [
    "## Building a Pyramid\n",
    "\n",
    "\n",
    "A Pyramid is built by creating multiple copies of an image at different resolutions.\n",
    "Each level of the Pyramid is $\\frac{1}{4}$ the size (in area) of the image at the level below it. i.e. it is halved in both x and y.\n",
    "So the lowest level of the pyramid has the highest resolution and the highest level has the lowest resolution.\n",
    "\n",
    "\n",
    "\n",
    "![](images/pyramid.png}\n",
    "Credit: Mubarak Shah"
   ]
  },
  {
   "cell_type": "markdown",
   "id": "ef207304-5348-4df0-a749-c0876e5d9647",
   "metadata": {},
   "source": [
    "## Shannon Nyquist\n",
    "\n",
    "If it seems that downsizing an image is straight forward then think again.\n",
    "\n",
    "If you've previously taken a class in DSP or data communications, you may be familiar with the Shannon Nyquist sampling theorem.\n",
    "\n",
    "It states that the sampling rate must be at least twice the highest frequency.\n",
    "If we downsample, i.e. set the sampling frequency to half of its current value then we need to ensure that there is nothing in our signal (the image in this case) that is higher than half of the new sampling frequency.\n",
    "\n",
    "Half the sampling rate is called the Nyquist rate or Nyquist frequency."
   ]
  },
  {
   "cell_type": "markdown",
   "id": "ba49c033-c9fb-46eb-9be1-4c0278029ef3",
   "metadata": {},
   "source": [
    "## Aliasing - Moiré\n",
    "\n",
    "\n",
    "What happens if we don't?\n",
    "Well  a phenomenon called aliasing will occur.\n",
    "\n",
    "This is where frequencies above the Nyquist frequency alias (appear to be) frequencies below the Nyquist frequency.\n",
    "\n",
    "In images this normally takes the form of Moire.\n",
    "\n",
    "\n",
    "![](images/Originalandmoire.jpg)\n",
    "\n",
    "Credit: Gordon Pritchard [The Print Guide: Moiré](http://the-print-guide.blogspot.com/2009/12/moire.html)"
   ]
  },
  {
   "cell_type": "markdown",
   "id": "d1f6f4e9-ba9c-4b1a-92bf-31a0e147b877",
   "metadata": {},
   "source": [
    "## So how do we down-sample?\n",
    "So what we must do is low-pass filter the signal (image) to remove the frequencies between the new Nyquist rate and the old.\n",
    "\n",
    "We can do this in an image with our good friend the Gaussian.\n",
    "\n",
    "We will have to choose the size of the Gaussian carefully so as not to remove any more than we should need to.\n",
    "\n",
    "\n",
    "\n",
    "## The Gaussian Pyramid - Reduce\n",
    "\n",
    "In a Gaussian Pyramid, the lowest level $g_0$ is the original image $I$.\n",
    "\n",
    "The next level up, $g_1$, is computed by a discrete approximation of a Gaussian  weighted average of the values of $g_0$.\n",
    "\n",
    "Each level $g_l$ is therefore computed by a Gaussian weighted average of the values of $g_{l-1}$.\n",
    "\n",
    "For a $5\\times5$ Gaussian this would be as follows.\n",
    "\n",
    "\\begin{equation}\n",
    "\tg_l(i,j) = \\sum_{m=-2}^2\\sum_{n=-2}^2 w(m,n)g_{l-1}(2i+m, 2j+n)\n",
    "\\end{equation}\n",
    "\n",
    "Where $w(m,n)$ is the Gaussian function. Which can of course be made separable.\n",
    "\n",
    "Note: the $2i$ and $2j$ has the effect of reducing the image by half in each direction."
   ]
  },
  {
   "cell_type": "markdown",
   "id": "c276edb0-41dd-4b9f-81ef-46a128543144",
   "metadata": {},
   "source": [
    "## The Gaussian Pyramid - Expand\n",
    "Related to this, is the idea of expanding an image from low-res to higher res.\n",
    "\n",
    "If we want to do this, the formula is very similar with only a few key differences.\n",
    "\n",
    "For a $5\\times5$ Gaussian this would be as follows.\n",
    "\n",
    "\\begin{equation}\n",
    "g_{l,n}(i,j) = \\sum_{m=-2}^2\\sum_{n=-2}^2 w(p,g)g_{l,n-1}\\left(\\frac{i-p}{2},\\frac{j-q}{2}\\right)\n",
    "\\end{equation}\n",
    "    \n",
    "The major difference is that we are dividing by 2 now instead of multipliying by 2 and this will have the effect of subsampling.  i.e. we will end up with twice as many pixels as before in both x and y.\n",
    "\n",
    "\n",
    "\n",
    "\n",
    "These are normally carried out with the standard Gaussian (reduce) pyramid which is why we see the indices $l,n$. i.e. We are using the reduced layer to recreate a different version of the higher resolution layer.\n",
    "\n",
    "Why? well more on that later.\n",
    "\n",
    "And do we need to use the Gaussian for upscaling?\n",
    "\n",
    "Well it works well as an interpolation method as it ensures that each pixel has the same impact as every other pixel.\n",
    "\n",
    "Also, generally when up-scaling you do need to lowpass filter to remove aliased frequencies, although this is not as obvious and a little beyond the scope of these lectures."
   ]
  },
  {
   "cell_type": "markdown",
   "id": "3ec075f6-4b2a-44fd-b625-51212393c161",
   "metadata": {},
   "source": [
    "## Separability\n",
    "One of the reasons the Gaussian pyramid is not excessively expensive to compute is that the Gaussian is separable.\n",
    "\n",
    "In the case of reduction, this means that the image will be filtered and reduced on one axis (making a rectangular image) and then filtered and reduced on the other axis bringing it back to square but now at half the size in each axis or quarter the area in pixels of the original image."
   ]
  },
  {
   "cell_type": "markdown",
   "id": "76896f79-e46f-4a9a-8433-be735fa1deec",
   "metadata": {},
   "source": [
    "## Laplacian Pyramid\n",
    "\n",
    "Similar to edge detected images.\n",
    "\n",
    "Can be used for image compression because most pixels are zero.\n",
    "\\begin{equation}\n",
    "L_l = g_l - \\text{Expand}[g_{l+1}]\n",
    "\\end{equation}\n",
    "\n",
    "This can also be used to synthetically combine images. "
   ]
  },
  {
   "cell_type": "markdown",
   "id": "32bc1db0-ce6a-4bae-81b7-595ea28dcf74",
   "metadata": {},
   "source": [
    "## Difference of Gaussian Pyramid\n",
    "An efficient way of calculating the Laplacian Pyramid was introduced by (Burt and Edelson), and was the DoG or Difference of Gaussians.\n",
    "\n",
    "It is only an approximation, but it's a good one and much more efficient to compute than the Laplacian.\n",
    "\n",
    "\\begin{equation}\n",
    "\\frac{\\partial G}{\\partial \\sigma}=\\sigma \\Delta^2 G\n",
    "\\end{equation}\n",
    "\n",
    "This is referred to in physics as the Heat Equation.\n",
    "\n",
    "\\begin{equation}\n",
    "\\frac{\\partial G}{\\partial \\sigma} \\approx\\frac{ G(x,y,k\\sigma)-G(x,y,\\sigma)}{k\\sigma-\\sigma}\n",
    "\\end{equation}\n",
    "    \n",
    "\\begin{equation}\n",
    "G(x,y,k\\sigma)-G(x,y,\\sigma)\\approx (k-1)\\sigma^2\\Delta^2G\n",
    "\\end{equation}\n",
    "\n",
    "\n",
    "\n",
    "![](images/DoGPyramid.png)\n",
    "\n",
    "David Lowe: [SIFT Paper](https://www.cs.ubc.ca/~lowe/papers/ijcv04.pdf)"
   ]
  },
  {
   "cell_type": "code",
   "execution_count": null,
   "id": "ec0f5743-7cc8-46b3-b9f5-367a0e3be523",
   "metadata": {},
   "outputs": [],
   "source": []
  }
 ],
 "metadata": {
  "kernelspec": {
   "display_name": "Python 3",
   "language": "python",
   "name": "python3"
  },
  "language_info": {
   "codemirror_mode": {
    "name": "ipython",
    "version": 3
   },
   "file_extension": ".py",
   "mimetype": "text/x-python",
   "name": "python",
   "nbconvert_exporter": "python",
   "pygments_lexer": "ipython3",
   "version": "3.8.8"
  }
 },
 "nbformat": 4,
 "nbformat_minor": 5
}
