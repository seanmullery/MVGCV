{
 "cells": [
  {
   "cell_type": "markdown",
   "id": "d311af0b-95b9-46a2-acd7-441cdb3b73e7",
   "metadata": {},
   "source": [
    "# Bundle Adjustment"
   ]
  },
  {
   "cell_type": "markdown",
   "id": "c46fb7bc-6500-4dda-a622-3e8bf01da138",
   "metadata": {},
   "source": [
    "## Computational Projective Reconstruction\n",
    "\n",
    "So previously we looked at analytical methods of computing structure and motion. \n",
    "\n",
    "\n",
    "However, we noted that while they were neat mathematical solutions and often quite efficient they had significant problems in the presence of noise.\n",
    "\n",
    "By noise here we simply mean anything that can interfere with our measurements.\n",
    "\n",
    "What we will now look at are computational means for estimating structure and motion.\n",
    "\n",
    "They are not neat and often are inefficient, but can give us a better result.\n",
    "\n",
    "They rely on non linear methods."
   ]
  },
  {
   "cell_type": "markdown",
   "id": "70f367e6-d51d-46e5-ba61-dfe8794a3c8d",
   "metadata": {},
   "source": [
    "## Bundle Adjustment\n",
    "The term bundle adjustment comes from the field of photogrammetry.\n",
    "\n",
    "It refers to the bundle of rays that emit from a 3D point and hit each of our image frames.\n",
    "\n",
    "The idea is that we vary our $(R,T,X)$ settings until we get a setting that matches all our correspondence points.\n",
    "\n",
    "The bundle of light rays all match up."
   ]
  },
  {
   "cell_type": "markdown",
   "id": "ca3ac6d3-4c20-46eb-8dbc-7bf4d004f682",
   "metadata": {},
   "source": [
    "## Noise\n",
    "If our points are noisy, won't we line up with the wrong points?\n",
    "The answer is both yes and no.\n",
    "\n",
    "- Firstly, yes, there will be no $(R,T,X)$ that can possibly get the rays to all line up unless there is no noise.\n",
    "\n",
    "- Secondly, no, because noise should cause our image points to be out by different amounts in all directions randomly.\n",
    "\n",
    "This means that if we can find the bundle adjustment that gives the least error, then we are likely to have hit the centre of all of the noise.\n",
    "\n",
    "And the centre of the noise is the point that is most likely to be the true point.\n",
    "Terms and conditions apply.\n",
    "\n",
    "\n",
    "\n",
    "### Terms and Conditions\n",
    "So this idea that the true value is at the center of the noise is based on an idea called the central limit theorem.\n",
    "\n",
    "It firstly assumes the distribution of the noise is Gaussian.\n",
    "\n",
    "This is not a bad assumption, this is the best model for noise. \n",
    "\n",
    "It secondly assumes the noise is not biased.\n",
    "\n",
    "Bias is normally associated with calibration.\n",
    "An incorrect calibration can send all of your errors in one direction.\n",
    "\n",
    "Thirdly, it assumes we have an infinite number of measurements.\n",
    "\n",
    "While this is not possible, the more measurements, the better our precision i.e. the closer to the true points we will be.\n",
    "\n",
    "But, the more measurements, the more computation required."
   ]
  },
  {
   "cell_type": "code",
   "execution_count": 1,
   "id": "2d096676-9a4c-4195-9430-50b42f387e9b",
   "metadata": {},
   "outputs": [],
   "source": [
    "\n",
    " # put in code that allows the student to play around with noise that varies the bias and variance."
   ]
  },
  {
   "cell_type": "markdown",
   "id": "cda99db2-5a2c-4210-99ba-48d57cb3b607",
   "metadata": {},
   "source": [
    "## Projective Reconstruction\n",
    "Imagine we have a set of 3D points which we will call $X_j$.\n",
    "\n",
    "And we view these from a set of cameras (views) $P^i$.\n",
    "\n",
    "So we will denote the $x^i_j$ as the coordinates of the $j^{th}$ point as seen by the $i^{th}$ camera.\n",
    "\n",
    "And we want to estimate the projection matrices $\\hat{P}^i$ and 3D points $\\hat{X}_j$\n",
    "i.e.\n",
    "\\begin{equation}\n",
    "\t\\hat{x}^i_j = \\hat{P}^i\\hat{X}_j\n",
    "\\end{equation}\n",
    "\n",
    "We want to minimise the image distance between the reprojected point and the detected (measured) image points $x^i_j$ for every view in which the 3D point appears.\n",
    "\n",
    "\\begin{equation}\n",
    "\t\\min_{\\hat{P}^i,\\hat{X}_j}\\sum_{i,j}d(\\hat{P}^i\\hat{X}_j, x^i_j)^2\n",
    "\\end{equation}\n",
    "\n",
    "$d(x,y)$ is the euclidean distance between pixels $x$ and $y$."
   ]
  },
  {
   "cell_type": "markdown",
   "id": "01eb3b61-6000-45e6-9b93-822a3d7c9b1c",
   "metadata": {},
   "source": [
    "## Bundle Adjustment\n",
    "\n",
    "The estimation involving minimising the reprojection error is known as bundle adjustment.\n",
    "\n",
    "We adjust the bundle of rays between each camera center and the set of 3D points.\n",
    "\n",
    "\n",
    "### How do we minimise?\n",
    "\n",
    "\n",
    "Firstly, where do we start with values for $(\\hat{P}^i, \\hat{X}_j)$?\n",
    "\n",
    "Unless you have better ways e.g. some prior knowledge of the scene, you should start with the techniques we used earlier in the module.\n",
    "\n",
    "Use the 8-point algorithm to help you do the multi-view methods and get yourself as close as possible so this only requires tweaking.\n",
    "\n",
    "\n",
    "\n",
    "\n",
    "[Father Ted Car Dent clip](https://www.youtube.com/watch?v=vcNiYQgsBUU)\n",
    "\n",
    " "
   ]
  },
  {
   "cell_type": "markdown",
   "id": "a841fe92-8728-4a2d-bafa-b875f6da309e",
   "metadata": {},
   "source": [
    "## Dimensionality\n",
    "\n",
    "Each camera view has 11 degrees of freedom and each 3D vector has 3 degrees of freedom.\n",
    "\n",
    "So a reconstruction for $n$ points over $m$ views requires minimisation over $3n+11m$ parameters.\n",
    "\n",
    "Consider 20 points in 5 views. That's $60+55=115$ dimensions.\n",
    "\n",
    "\n",
    "Methods of minimisation, like the [Levenberg-Marquardt algorithm](https://en.wikipedia.org/wiki/Levenberg–Marquardt_algorithm), would have to use matrices of $115\\times115$ and factor them (or invert).\n",
    "\n",
    "You can see how, as $m$ and $n$ increase this becomes very costly and for very dense reconstructions would become essentially impossible.\n",
    "\n",
    "Oh and the $R$ matrix has to have all those properties we discussed.\n",
    "\n",
    "\n",
    "### Solutions\n",
    "\n",
    "- Reduce $n$ and/or $m$\n",
    "- Interleave\n",
    "- Sparse Methods"
   ]
  },
  {
   "cell_type": "markdown",
   "id": "fde24dc2-51e3-413d-96fb-6c1fa2380f00",
   "metadata": {},
   "source": [
    "## Reduce $n$ and/or $m$\n",
    "Just leave out some points or views.\n",
    "\n",
    "You can fill them in later by triangulation or re-sectioning,  respectively.\n",
    "\n",
    "You could also partition the data into several sets, bundle adjust each separately and then merge them.\n",
    "\n",
    "See section (18.6) of [Hartley and Zisserman](https://www.robots.ox.ac.uk/~vgg/hzbook/) for further discussion on this method."
   ]
  },
  {
   "cell_type": "markdown",
   "id": "b4101d8d-118e-4932-9016-2eef047c453e",
   "metadata": {},
   "source": [
    "## Interleave\n",
    "\n",
    "Alternately \n",
    "\n",
    "- minimise the reprojection error by varying the cameras with \n",
    "- minimising reprojection error by varying the points.\n",
    " \n",
    "The advantage here is dimensionality.\n",
    "\n",
    "Each point is estimated independently given fixed cameras, and similarly, each camera is estimated independently using fixed points.\n",
    "\n",
    "The largest matrix that requires inversion is the $11\\times11$ matrix used to estimate a single camera.\n",
    "\n",
    "It minimises the same cost function as Bundle adjustment so it should get to the same solution. (Assuming a unique minimum).\n",
    "\n",
    "It may take longer to converge though."
   ]
  },
  {
   "cell_type": "markdown",
   "id": "f2ec4781-674f-4c3e-ae18-b9c6ccd0c410",
   "metadata": {},
   "source": [
    "## Sparse Methods\n",
    "We won't go into detail on these as they require advanced linear algebra and looking at the block structure of matrices.\n",
    "\n",
    "While these are considered very difficult to implement as algorithms, there are cookbook style algorithms that can be followed.\n",
    "\n",
    "Appendix 6.3 of [Hartley and Zisserman](https://www.robots.ox.ac.uk/~vgg/hzbook/)explain these in detail."
   ]
  },
  {
   "cell_type": "markdown",
   "id": "09e7dd42-0471-40dd-b4a0-54aa4b620987",
   "metadata": {},
   "source": [
    "## Gradient Descent\n",
    "\n",
    "Gradient descent is a first order method (i.e. first derivatives only) which aims to find a minimum of a function.\n",
    "\\begin{equation}\n",
    "\tx_{t+1} = x_t-\\alpha_t\\nabla f(x_t)\n",
    "\\end{equation}\n",
    "\n",
    "$\\alpha$ is called the learning rate."
   ]
  },
  {
   "cell_type": "code",
   "execution_count": null,
   "id": "8fe3ff68-8176-4f3e-8bc5-3af1fab84893",
   "metadata": {},
   "outputs": [],
   "source": [
    "#Gradient descent animation with various learning rates."
   ]
  },
  {
   "cell_type": "markdown",
   "id": "4fa25282-1d32-43d0-a060-470c58b08dfb",
   "metadata": {},
   "source": [
    "## Newton Iteration\n",
    "This is a method of finding the zeros of a function, i.e. where a function is a value of zero.\n",
    "\n",
    "For optimisation, we use the Newton method to find where a function has a derivative of zero and so is at its minimum.\n",
    "\n",
    "Newton's method is a second order method, meaning that it uses second derivatives (as well as the first derivatives).\n",
    "\n",
    "Newton's method to find zeros.\n",
    "\\begin{equation}\n",
    "x_{t+1} = x_t-\\frac{f(x_t)}{f'(x_t)} \n",
    "\\end{equation}\n",
    "Newton's method to find minimum in optimisation.\n",
    "\\begin{equation}\n",
    "x_{t+1} = x_t-\\frac{f'(x_t)}{f''(x_t)} \n",
    "\\end{equation}\n",
    "[Andrew Ng Newton's method](https://www.youtube.com/watch?v=TuttBDdbls8&)\n",
    "\n",
    "\n",
    "\n"
   ]
  },
  {
   "cell_type": "code",
   "execution_count": null,
   "id": "a8c6bc6c-f485-40cf-bf53-b3d271722f03",
   "metadata": {},
   "outputs": [],
   "source": [
    "#Newtons method program"
   ]
  }
 ],
 "metadata": {
  "kernelspec": {
   "display_name": "Python 3 (ipykernel)",
   "language": "python",
   "name": "python3"
  },
  "language_info": {
   "codemirror_mode": {
    "name": "ipython",
    "version": 3
   },
   "file_extension": ".py",
   "mimetype": "text/x-python",
   "name": "python",
   "nbconvert_exporter": "python",
   "pygments_lexer": "ipython3",
   "version": "3.11.7"
  }
 },
 "nbformat": 4,
 "nbformat_minor": 5
}
