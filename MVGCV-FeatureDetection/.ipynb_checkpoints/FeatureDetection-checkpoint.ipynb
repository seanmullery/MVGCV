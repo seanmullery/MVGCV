{
 "cells": [
  {
   "cell_type": "code",
   "execution_count": null,
   "id": "75d8b603",
   "metadata": {},
   "outputs": [],
   "source": [
    "import pandas as pd\n",
    "import plotly.express as px\n",
    "\n",
    "# 2 lines below for html export\n",
    "import plotly.io as pio\n",
    "pio.renderers.default ='notebook'\n",
    "\n",
    "# 2 lines below for PDF export\n",
    "#!pip install Pyppeteer\n",
    "#!pyppeteer-install\n",
    "\n",
    "from IPython.display import YouTubeVideo"
   ]
  },
  {
   "cell_type": "markdown",
   "id": "e1c1d9c4",
   "metadata": {},
   "source": [
    "## Links and Acknowledgements\n",
    "\n",
    "[Mubarak Shah, University of Central Florida (UCF), Youtube](https://www.youtube.com/watch?v=715uLCHt4jE&list=PLd3hlSJsX_ImKP68wfKZJVIPTd8Ie5u-9)\n",
    "\n",
    "[James, Hays Georgia Tech, Notes](https://www.cc.gatech.edu/~hays/compvision/)\n",
    "\n",
    "[Richard Szeliski, Computer Vision, Text Book](https://www.amazon.co.uk/Computer-Vision-Algorithms-Applications-Science/dp/1848829345/ref=sr_1_1?ie=UTF8&qid=1548753076&sr=8-1&keywords=richard+szeliski)\n",
    "\n",
    "[Tamal Bose, Digital Signal and Image Processing, Text Book](https://www.amazon.co.uk/Digital-Signal-Image-Processing-Tamal/dp/9812531122/ref=sr_1_1?ie=UTF8&qid=1548753160&sr=8-1&keywords=digital+signal+and+image+processing+tamal+bose)\n",
    "\n",
    "[David Jerison, MIT 18.01 Single Variable Calculus, Youtube](https://www.youtube.com/watch?v=7K1sB05pE0A&list=PL590CCC2BC5AF3BC1)\n",
    "\n",
    "[Gilbert Strang, MIT 18.06 Linear Algebra, Youtube](https://www.youtube.com/watch?v=ZK3O402wf1c&list=PLE7DDD91010BC51F8)"
   ]
  },
  {
   "cell_type": "markdown",
   "id": "2d922ddb",
   "metadata": {},
   "source": [
    "## Edges\n",
    "\n",
    "Edges in images convey an enormous amount of information. \n",
    "\n",
    "A line drawing of an image contains most of the information you need. \n",
    "\n",
    "Adding grey tones, colour and texture should not be underestimated but edges tell us the most.\n",
    "They delineate the boundary between objects.\n",
    "\n",
    "They also show where an object changes. \n",
    "\n",
    "We can also see shadow boundaries which may help with determining positions in an image.\n",
    "\n",
    "Edge detection is well studied with incremental improvement being made from one algorithm to the next."
   ]
  },
  {
   "cell_type": "markdown",
   "id": "783f1dcf",
   "metadata": {},
   "source": [
    "## Types of edge\n",
    "\n",
    "To think about edges you need to think about a change in the brightness (intensity) of pixels.\n",
    "This could be a change from bright to dark or dark to bright. Below are four types of edge model.\n",
    "\n",
    "![The image illustrates four types of edges commonly identified in image processing, each accompanied by a corresponding graphical representation. \"Step\": Displayed is a horizontal line with a sudden vertical change, resembling a step. \"Roof\": Illustrated is a line that gradually ascends and then immediately descends, forming a shape similar to a roof. \"Ramp\": Showcased is a line that smoothly ascends, resembling a ramp.\n",
    "- \"Spike\": Depicted is a line with a sharp and narrow peak, representing a spike.\n",
    "\n",
    "Each type of edge is a different graphical representation of intensity transitions that might be encountered in an image.](images/TypesOfEdge.jpeg)\n",
    "\n",
    "Once we mention change of brightness you should immediately think gradient/derivative.\n",
    "\n",
    "The gradient will pop up again and again throughout your studies."
   ]
  }
 ],
 "metadata": {
  "kernelspec": {
   "display_name": "Python 3",
   "language": "python",
   "name": "python3"
  },
  "language_info": {
   "codemirror_mode": {
    "name": "ipython",
    "version": 3
   },
   "file_extension": ".py",
   "mimetype": "text/x-python",
   "name": "python",
   "nbconvert_exporter": "python",
   "pygments_lexer": "ipython3",
   "version": "3.8.8"
  }
 },
 "nbformat": 4,
 "nbformat_minor": 5
}
